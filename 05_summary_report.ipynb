{
 "cells": [
  {
   "cell_type": "code",
   "execution_count": 1,
   "id": "79f19cb5-7578-4554-bfe5-1da060b5be2d",
   "metadata": {},
   "outputs": [
    {
     "data": {
      "text/markdown": [
       "\n",
       "# Summary Report\n",
       "\n",
       "## Key Insights\n",
       "- Most of the transactions are expenses.\n",
       "- Food and Transportation are the top spending categories.\n",
       "- Spending changes month by month.\n",
       "\n",
       "## What Can Be Done\n",
       "- Set a budget limit on the top categories.\n",
       "- Track monthly changes to avoid overspending.\n"
      ],
      "text/plain": [
       "<IPython.core.display.Markdown object>"
      ]
     },
     "execution_count": 1,
     "metadata": {},
     "output_type": "execute_result"
    }
   ],
   "source": [
    "from IPython.display import Markdown\n",
    "\n",
    "Markdown(\"\"\"\n",
    "# Summary Report\n",
    "\n",
    "## Key Insights\n",
    "- Most of the transactions are expenses.\n",
    "- Food and Transportation are the top spending categories.\n",
    "- Spending changes month by month.\n",
    "\n",
    "## What Can Be Done\n",
    "- Set a budget limit on the top categories.\n",
    "- Track monthly changes to avoid overspending.\n",
    "\"\"\")\n"
   ]
  },
  {
   "cell_type": "code",
   "execution_count": null,
   "id": "ee6c426f-7a4f-4f87-b45b-51df94ad9f41",
   "metadata": {},
   "outputs": [],
   "source": []
  }
 ],
 "metadata": {
  "kernelspec": {
   "display_name": "Python [conda env:base] *",
   "language": "python",
   "name": "conda-base-py"
  },
  "language_info": {
   "codemirror_mode": {
    "name": "ipython",
    "version": 3
   },
   "file_extension": ".py",
   "mimetype": "text/x-python",
   "name": "python",
   "nbconvert_exporter": "python",
   "pygments_lexer": "ipython3",
   "version": "3.12.7"
  }
 },
 "nbformat": 4,
 "nbformat_minor": 5
}
